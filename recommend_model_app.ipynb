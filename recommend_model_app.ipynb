{
 "cells": [
  {
   "cell_type": "code",
   "execution_count": null,
   "metadata": {
    "id": "5NolM4yWUQ9G"
   },
   "outputs": [],
   "source": [
    "from flask import Flask,request\n",
    "from flask_restful import Resource, Api\n",
    "import pickle\n",
    "import pandas as pd\n",
    "from flask_cors import CORS\n",
    "\n",
    "\n",
    "app = Flask(__name__)\n",
    "#\n",
    "CORS(app)\n",
    "# creating an API object\n",
    "api = Api(app)\n",
    "\n",
    "#prediction api call\n",
    "class recommendations(Resource):\n",
    "    def get(self, price, data):\n",
    "        #budget = request.args.get('budget')\n",
    "\n",
    "        # Let's load the package\n",
    "        price = price\n",
    "        \n",
    "        df = pd.DataFrame(columns=['Postal Code', 'Model Year','Make', 'Model', 'Electric Vehicle Type', 'Price per day',\n",
    "       'Clean Alternative Fuel Vehicle (CAFV) Eligibility', 'Electric Range', 'rating', 'type', 'lat', 'lng'])\n",
    "        \n",
    "        df.loc[0] = price\n",
    "        model = pickle.load(open('model.pkl', 'rb'))\n",
    "\n",
    "        i = model.predict(df)\n",
    "        recommendations = data[data['labels'] == i]\n",
    "        recommendations = recommendations.to_json(orient='records')\n",
    "        return recommendations\n",
    "\n",
    "#data api\n",
    "class getData(Resource):\n",
    "    def get(self):\n",
    "            df = pd.read_csv('main.csv')\n",
    "            #print(df.head())\n",
    "            #out = {'key':str}\n",
    "            #res = df.to_json(orient='records')\n",
    "            #print( res)\n",
    "            return df\n",
    "\n",
    "#\n",
    "api.add_resource(getData, '/api')\n",
    "api.add_resource(recommendations, '/recommendations/<list:[], df>')\n",
    "\n",
    "if __name__ == '__main__':\n",
    "    app.run(debug=True)"
   ]
  }
 ],
 "metadata": {
  "colab": {
   "provenance": []
  },
  "kernelspec": {
   "display_name": "Python 3 (ipykernel)",
   "language": "python",
   "name": "python3"
  },
  "language_info": {
   "codemirror_mode": {
    "name": "ipython",
    "version": 3
   },
   "file_extension": ".py",
   "mimetype": "text/x-python",
   "name": "python",
   "nbconvert_exporter": "python",
   "pygments_lexer": "ipython3",
   "version": "3.9.7"
  }
 },
 "nbformat": 4,
 "nbformat_minor": 1
}
