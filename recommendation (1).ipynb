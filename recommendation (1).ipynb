{
  "nbformat": 4,
  "nbformat_minor": 0,
  "metadata": {
    "colab": {
      "provenance": []
    },
    "kernelspec": {
      "name": "python3",
      "display_name": "Python 3"
    },
    "language_info": {
      "name": "python"
    }
  },
  "cells": [
    {
      "cell_type": "code",
      "execution_count": null,
      "metadata": {
        "id": "_LFnu0p04A6B"
      },
      "outputs": [],
      "source": [
        "import os\n",
        "import pickle\n",
        "# Load the Drive helper and mount\n",
        "from google.colab import drive\n",
        "drive.mount('/content/drive')\n",
        "\n",
        "import os\n",
        "os.chdir(\"/content/drive/My Drive\")\n",
        "#!ls"
      ]
    },
    {
      "cell_type": "code",
      "source": [
        "main =pd.read_csv('main.csv')"
      ],
      "metadata": {
        "id": "J10vTsO14IK0"
      },
      "execution_count": null,
      "outputs": []
    },
    {
      "cell_type": "code",
      "source": [
        "#Picking up some relevant fields\n",
        "final = main[['Postal Code', 'Model Year','Make', 'Model', 'Electric Vehicle Type', 'Price per day',\n",
        "       'Clean Alternative Fuel Vehicle (CAFV) Eligibility', 'Electric Range', 'rating', 'type', 'lat', 'lng']]\n",
        "final = final.dropna()\n"
      ],
      "metadata": {
        "id": "7WClv9zh4I8R"
      },
      "execution_count": null,
      "outputs": []
    },
    {
      "cell_type": "code",
      "source": [
        "#Normalizing the continous data\n",
        "from sklearn import preprocessing\n",
        "final_norm = final.copy()\n",
        "scaler = preprocessing.MinMaxScaler()\n",
        "final_norm[['Postal Code', 'Model Year','Electric Range','rating', 'Price per day',\n",
        "        'lat', 'lng']]= scaler.fit_transform(final_norm[['Postal Code', 'Model Year','Electric Range','rating', 'Price per day',\n",
        "        'lat', 'lng']])"
      ],
      "metadata": {
        "id": "gWhagyXG490X"
      },
      "execution_count": null,
      "outputs": []
    },
    {
      "cell_type": "code",
      "source": [
        "#final_norm1000 = final_norm[0:1000]\n",
        "final_norm.columns"
      ],
      "metadata": {
        "id": "d4KNt_nF4-uI"
      },
      "execution_count": null,
      "outputs": []
    },
    {
      "cell_type": "code",
      "source": [
        "!pip install kmodes\n",
        "from kmodes.kprototypes import KPrototypes\n",
        "kproto = KPrototypes(n_clusters=, init='Cao')\n",
        "clusters = kproto.fit_predict(final_norm1000, categorical=[2, 3, 4, 6, 9])\n",
        "#join data with labels \n",
        "labels = pd.DataFrame(clusters)\n",
        "labeledCustomers = pd.concat((main,labels),axis=1)\n",
        "labeledCustomers = labeledCustomers.rename({0:'labels'},axis=1)"
      ],
      "metadata": {
        "id": "YVP9epJF5G5S"
      },
      "execution_count": null,
      "outputs": []
    },
    {
      "cell_type": "code",
      "source": [
        "# Saving model to current directory\n",
        "# Pickle serializes objects so they can be saved to a file, and loaded in a program again later on.\n",
        "pickle.dump(kproto, open('model.pkl','wb'))\n",
        "\n",
        "'''\n",
        "#Loading model to compare the results\n",
        "model = pickle.load(open('model.pkl','rb'))\n",
        "print(model.predict([[2.6, 8, 10.1]]))\n",
        "'''"
      ],
      "metadata": {
        "id": "sG1r1r8J513j"
      },
      "execution_count": null,
      "outputs": []
    }
  ]
}